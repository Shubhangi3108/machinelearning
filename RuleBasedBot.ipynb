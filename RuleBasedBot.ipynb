{
  "nbformat": 4,
  "nbformat_minor": 0,
  "metadata": {
    "colab": {
      "provenance": [],
      "authorship_tag": "ABX9TyOeBUdTHlDKhAo4GsesXtzo",
      "include_colab_link": true
    },
    "kernelspec": {
      "name": "python3",
      "display_name": "Python 3"
    },
    "language_info": {
      "name": "python"
    }
  },
  "cells": [
    {
      "cell_type": "markdown",
      "metadata": {
        "id": "view-in-github",
        "colab_type": "text"
      },
      "source": [
        "<a href=\"https://colab.research.google.com/github/Shubhangi3108/machinelearning/blob/main/RuleBasedBot.ipynb\" target=\"_parent\"><img src=\"https://colab.research.google.com/assets/colab-badge.svg\" alt=\"Open In Colab\"/></a>"
      ]
    },
    {
      "cell_type": "code",
      "execution_count": 5,
      "metadata": {
        "id": "97sSRZLn1QDf"
      },
      "outputs": [],
      "source": [
        "import re\n",
        "import random\n"
      ]
    },
    {
      "cell_type": "code",
      "source": [
        "class RuleBot:\n",
        "  ###Potential Negative Responses\n",
        "  negative_responses=(\"no\",\"nope\",\"nah\",\"naw\",\"nahi\",\"not a chance\",\"sorry\",\"naa ho\",\"No\")\n",
        "  ### Exit conversation keywords\n",
        "  exit_commands=(\"quit\",\"pause\",\"exit\",\"goodbye\",\"bye\",\"later\",\"bas aaj ke liye ho gaya\")\n",
        "  ### random starter questions\n",
        "  random_questions=(\n",
        "      \"Why are you here?\",\n",
        "      \"Are there humans like you\",\n",
        "      \"What do you consume for sustenance\",\n",
        "      \"Is there intelligent life on this planet?\",\n",
        "      \"Aur batao Kya haal chaal?\",\n",
        "      \"Aaj ka din kaisa tha?\",\n",
        "      \"Ask me a question if you want?\",\n",
        "      \"Does Earth have a leader?\",\n",
        "      \"What planets have you visited?\",\n",
        "      \"What technology do you have on this planet?\"\n",
        "      )\n",
        "\n",
        "  def __init__(self):\n",
        "    self.alienable={'describe_planet_intent': r'.*\\s*your planet.*',\n",
        "                    'answer_why_intent': r'why\\s+are.*',\n",
        "                    'about_Shubhangi': r'.*\\s*Shubhangi',\n",
        "                    'about_session': r'.*\\s*session'\n",
        "                    }\n",
        "\n",
        "  def greet(self):\n",
        "    self.name=input(\"What is your name?\\n\")\n",
        "    will_help=input(\n",
        "        f'Hi {self.name},I am Shubhangi.Will you help me learn about your planet?\\n')\n",
        "    if will_help in self.negative_responses:\n",
        "      print(\"OK,have a nice Day! Kal milte hai\")\n",
        "      return\n",
        "    self.chat()\n",
        "\n",
        "  def make_exit(self,reply):\n",
        "    for command in self.exit_commands:\n",
        "      if reply==command:\n",
        "        print(\"Okay,have a nice day!! Bye-Bye\")\n",
        "        return True\n",
        "\n",
        "  def chat(self):\n",
        "    reply= input(random.choice(self.random_questions)).lower()\n",
        "    while not self.make_exit(reply):\n",
        "      reply=input(self.match_reply(reply))\n",
        "\n",
        "  def match_reply(self,reply):\n",
        "    for key,value in self.alienable.items():\n",
        "      intent=key\n",
        "      regex_pattern=value\n",
        "      found_match=re.match(regex_pattern,reply)\n",
        "      if found_match and intent=='describe_planet_intent':\n",
        "        return self.describe_planet_intent()\n",
        "      elif found_match and intent=='answer_why_intent':\n",
        "        return self.answer_why_intent()\n",
        "      elif found_match and intent=='about_Shubhangi':\n",
        "        return self.about_Shubhangi()\n",
        "      elif found_match and intent=='about_session':\n",
        "        return self.about_session()\n",
        "    if not found_match:\n",
        "      return self.no_match_intent()\n",
        "\n",
        "  def describe_planet_intent(self):\n",
        "    responses=(\"My planet is a utopis of diverse organisms and species.\\n\",\n",
        "               \"I am from Opidipus, the capital of the  Wayward Galaxies.\\n\")\n",
        "    return random.choice(responses)\n",
        "\n",
        "  def answer_why_intent(self):\n",
        "    responses=(\"I come in peace\\n\",\"I am here to collect data on your planet and its inhabitants\\n\",\n",
        "               \"I heard the coffee is good\\n\")\n",
        "    return random.choice(responses)\n",
        "\n",
        "  def about_Shubhangi(self):\n",
        "    responses=(\"Hi I am Shubhangi who has created this bot and and I am thrilled to make more such bots like this.\\n\",\n",
        "               \"I hope to make a better one next time.\\n\")\n",
        "    return random.choice(responses)\n",
        "\n",
        "  def about_session(self):\n",
        "    responses=(\"This session handles the making of a rule based chatbot\\n\",\n",
        "               \"This session was pretty cool i got to know abt rule based chatbot\\n\")\n",
        "    return random.choice(responses)\n",
        "\n",
        "  def no_match_intent(self):\n",
        "    responses=(\"Please tell me more.\\n\",\"Tell me more!\\n\",\"Acha!Which one?\\n\",\"Why do you say that?\\n\",\"I see. Can you plzz  elaborate?\\n\",\"Interesting.Can you tell me more?\\n\",\"I see,How do you think?\\n\",\"Why?\\n\",\"How do you think I feel when you say that?\\n\")\n",
        "    return random.choice(responses)\n",
        "\n",
        "AlienBot=RuleBot()\n",
        "AlienBot.greet()\n",
        "\n",
        "\n"
      ],
      "metadata": {
        "colab": {
          "base_uri": "https://localhost:8080/"
        },
        "id": "oUrgukyO12RZ",
        "outputId": "abc9dc8e-791f-498c-e4b8-d3efff5d7fa3"
      },
      "execution_count": null,
      "outputs": [
        {
          "name": "stdout",
          "output_type": "stream",
          "text": [
            "What is your name?\n",
            "shu\n",
            "Hi shu,I am Shubhangi.Will you help me learn about your planet?\n",
            "tell me abt this session\n",
            "Are there humans like youno\n",
            "Please tell me more.\n",
            "tell me about this session\n",
            "This session handles the making of a rule based chatbot\n",
            "session reply\n"
          ]
        }
      ]
    },
    {
      "cell_type": "code",
      "source": [],
      "metadata": {
        "id": "hV3pmNfOtxhs"
      },
      "execution_count": null,
      "outputs": []
    }
  ]
}